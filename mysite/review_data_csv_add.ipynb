{
 "cells": [
  {
   "cell_type": "code",
   "execution_count": 1,
   "metadata": {},
   "outputs": [],
   "source": [
    "import pandas as pd\n",
    "import random\n",
    "from datetime import datetime, timedelta\n",
    "\n",
    "# csv 데이터 불러오기\n",
    "review_df = pd.read_csv(\"dataset/tripadvisor_hotel_reviews.csv\")\n",
    "\n",
    "# 임의의 시작 날짜와 종료 날짜 설정\n",
    "start_date = datetime(2024, 1, 1)\n",
    "end_date = datetime(2024, 6, 30)\n",
    "\n",
    "# random_date 함수 정의\n",
    "def random_date(start, end):\n",
    "    return start + timedelta(days=random.randint(0, int((end - start).days)))\n",
    "\n",
    "# date 컬럼에 임의의 날짜 넣기\n",
    "review_df['date'] = [random_date(start_date, end_date) for _ in range(len(review_df))]\n",
    "\n",
    "# 감정 컬럼에 임의의 값 넣기 (Rating 기준으로 Positive 또는 Negative 설정)\n",
    "review_df['감정'] = review_df['Rating'].apply(lambda x: 'Positive' if x >= 4 else 'Negative')\n",
    "\n",
    "# dataset/new_data.csv 파일로 저장\n",
    "review_df.to_csv(\"dataset/new_data.csv\", index=False)"
   ]
  }
 ],
 "metadata": {
  "kernelspec": {
   "display_name": "env",
   "language": "python",
   "name": "python3"
  },
  "language_info": {
   "codemirror_mode": {
    "name": "ipython",
    "version": 3
   },
   "file_extension": ".py",
   "mimetype": "text/x-python",
   "name": "python",
   "nbconvert_exporter": "python",
   "pygments_lexer": "ipython3",
   "version": "3.11.8"
  }
 },
 "nbformat": 4,
 "nbformat_minor": 2
}
